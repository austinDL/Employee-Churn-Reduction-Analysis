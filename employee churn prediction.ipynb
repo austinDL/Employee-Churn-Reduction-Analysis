{
 "cells": [
  {
   "cell_type": "markdown",
   "metadata": {},
   "source": [
    "# Classifying Employee Churn"
   ]
  },
  {
   "cell_type": "markdown",
   "metadata": {},
   "source": [
    "Imports"
   ]
  },
  {
   "cell_type": "code",
   "execution_count": 1,
   "metadata": {},
   "outputs": [],
   "source": [
    "#Import data manipulation libraries\n",
    "import pandas as pd\n",
    "import numpy as np\n",
    "import matplotlib.pyplot as plt\n",
    "import seaborn as sns\n",
    "\n",
    "\n",
    "#Set the plotting style\n",
    "sns.set()\n",
    "#Suppress Warnings\n",
    "import warnings\n",
    "warnings.filterwarnings('ignore')"
   ]
  },
  {
   "cell_type": "markdown",
   "metadata": {},
   "source": [
    "Load in the data"
   ]
  },
  {
   "cell_type": "code",
   "execution_count": 2,
   "metadata": {},
   "outputs": [
    {
     "data": {
      "text/html": [
       "<div>\n",
       "<style scoped>\n",
       "    .dataframe tbody tr th:only-of-type {\n",
       "        vertical-align: middle;\n",
       "    }\n",
       "\n",
       "    .dataframe tbody tr th {\n",
       "        vertical-align: top;\n",
       "    }\n",
       "\n",
       "    .dataframe thead th {\n",
       "        text-align: right;\n",
       "    }\n",
       "</style>\n",
       "<table border=\"1\" class=\"dataframe\">\n",
       "  <thead>\n",
       "    <tr style=\"text-align: right;\">\n",
       "      <th></th>\n",
       "      <th>department</th>\n",
       "      <th>promoted</th>\n",
       "      <th>review</th>\n",
       "      <th>projects</th>\n",
       "      <th>salary</th>\n",
       "      <th>tenure</th>\n",
       "      <th>satisfaction</th>\n",
       "      <th>bonus</th>\n",
       "      <th>avg_hrs_month</th>\n",
       "      <th>departure</th>\n",
       "    </tr>\n",
       "  </thead>\n",
       "  <tbody>\n",
       "    <tr>\n",
       "      <th>0</th>\n",
       "      <td>Operations</td>\n",
       "      <td>Not Promoted</td>\n",
       "      <td>0.577569</td>\n",
       "      <td>3</td>\n",
       "      <td>Low</td>\n",
       "      <td>5</td>\n",
       "      <td>0.626759</td>\n",
       "      <td>No Bonus</td>\n",
       "      <td>180.866070</td>\n",
       "      <td>Stayed</td>\n",
       "    </tr>\n",
       "    <tr>\n",
       "      <th>1</th>\n",
       "      <td>Operations</td>\n",
       "      <td>Not Promoted</td>\n",
       "      <td>0.751900</td>\n",
       "      <td>3</td>\n",
       "      <td>Medium</td>\n",
       "      <td>6</td>\n",
       "      <td>0.443679</td>\n",
       "      <td>No Bonus</td>\n",
       "      <td>182.708149</td>\n",
       "      <td>Stayed</td>\n",
       "    </tr>\n",
       "    <tr>\n",
       "      <th>2</th>\n",
       "      <td>Support</td>\n",
       "      <td>Not Promoted</td>\n",
       "      <td>0.722548</td>\n",
       "      <td>3</td>\n",
       "      <td>Medium</td>\n",
       "      <td>6</td>\n",
       "      <td>0.446823</td>\n",
       "      <td>No Bonus</td>\n",
       "      <td>184.416084</td>\n",
       "      <td>Stayed</td>\n",
       "    </tr>\n",
       "    <tr>\n",
       "      <th>3</th>\n",
       "      <td>Logistics</td>\n",
       "      <td>Not Promoted</td>\n",
       "      <td>0.675158</td>\n",
       "      <td>4</td>\n",
       "      <td>High</td>\n",
       "      <td>8</td>\n",
       "      <td>0.440139</td>\n",
       "      <td>No Bonus</td>\n",
       "      <td>188.707545</td>\n",
       "      <td>Stayed</td>\n",
       "    </tr>\n",
       "    <tr>\n",
       "      <th>4</th>\n",
       "      <td>Sales</td>\n",
       "      <td>Not Promoted</td>\n",
       "      <td>0.676203</td>\n",
       "      <td>3</td>\n",
       "      <td>High</td>\n",
       "      <td>5</td>\n",
       "      <td>0.577607</td>\n",
       "      <td>Bonus</td>\n",
       "      <td>179.821083</td>\n",
       "      <td>Stayed</td>\n",
       "    </tr>\n",
       "  </tbody>\n",
       "</table>\n",
       "</div>"
      ],
      "text/plain": [
       "   department      promoted    review  projects  salary  tenure  satisfaction  \\\n",
       "0  Operations  Not Promoted  0.577569         3     Low       5      0.626759   \n",
       "1  Operations  Not Promoted  0.751900         3  Medium       6      0.443679   \n",
       "2     Support  Not Promoted  0.722548         3  Medium       6      0.446823   \n",
       "3   Logistics  Not Promoted  0.675158         4    High       8      0.440139   \n",
       "4       Sales  Not Promoted  0.676203         3    High       5      0.577607   \n",
       "\n",
       "      bonus  avg_hrs_month departure  \n",
       "0  No Bonus     180.866070    Stayed  \n",
       "1  No Bonus     182.708149    Stayed  \n",
       "2  No Bonus     184.416084    Stayed  \n",
       "3  No Bonus     188.707545    Stayed  \n",
       "4     Bonus     179.821083    Stayed  "
      ]
     },
     "execution_count": 2,
     "metadata": {},
     "output_type": "execute_result"
    }
   ],
   "source": [
    "df = pd.read_csv('./data/clean_data.csv').drop(\"Unnamed: 0\", axis=1)\n",
    "df.head()"
   ]
  },
  {
   "cell_type": "markdown",
   "metadata": {},
   "source": [
    "## 1. Feature Engineering and Selection"
   ]
  },
  {
   "cell_type": "markdown",
   "metadata": {},
   "source": [
    "### Feature Analysis\n",
    "From the Turnover Analysis Notebook, we noticed that all features (excluding bonus and employee satisfaction) are good indicators of an employee leaving. As such, these features can be used as inputs to a classification model that predicts if an employee is likely to leave.\n",
    "<br>Also, we noticed that the churn distributions varied significantly between the departments, so we will either create a prediction model for each department or include the department as an input feature to the model"
   ]
  },
  {
   "cell_type": "markdown",
   "metadata": {},
   "source": [
    "Looking at the distributions of the features"
   ]
  },
  {
   "cell_type": "code",
   "execution_count": 3,
   "metadata": {},
   "outputs": [
    {
     "name": "stdout",
     "output_type": "stream",
     "text": [
      "9540\n"
     ]
    },
    {
     "data": {
      "text/html": [
       "<div>\n",
       "<style scoped>\n",
       "    .dataframe tbody tr th:only-of-type {\n",
       "        vertical-align: middle;\n",
       "    }\n",
       "\n",
       "    .dataframe tbody tr th {\n",
       "        vertical-align: top;\n",
       "    }\n",
       "\n",
       "    .dataframe thead th {\n",
       "        text-align: right;\n",
       "    }\n",
       "</style>\n",
       "<table border=\"1\" class=\"dataframe\">\n",
       "  <thead>\n",
       "    <tr style=\"text-align: right;\">\n",
       "      <th></th>\n",
       "      <th>review</th>\n",
       "      <th>projects</th>\n",
       "      <th>tenure</th>\n",
       "      <th>satisfaction</th>\n",
       "      <th>avg_hrs_month</th>\n",
       "    </tr>\n",
       "  </thead>\n",
       "  <tbody>\n",
       "    <tr>\n",
       "      <th>count</th>\n",
       "      <td>9540.000000</td>\n",
       "      <td>9540.000000</td>\n",
       "      <td>9540.000000</td>\n",
       "      <td>9540.000000</td>\n",
       "      <td>9540.000000</td>\n",
       "    </tr>\n",
       "    <tr>\n",
       "      <th>mean</th>\n",
       "      <td>0.651826</td>\n",
       "      <td>3.274843</td>\n",
       "      <td>6.556184</td>\n",
       "      <td>0.504645</td>\n",
       "      <td>184.661571</td>\n",
       "    </tr>\n",
       "    <tr>\n",
       "      <th>std</th>\n",
       "      <td>0.085307</td>\n",
       "      <td>0.579136</td>\n",
       "      <td>1.415432</td>\n",
       "      <td>0.158555</td>\n",
       "      <td>4.144831</td>\n",
       "    </tr>\n",
       "    <tr>\n",
       "      <th>min</th>\n",
       "      <td>0.310000</td>\n",
       "      <td>2.000000</td>\n",
       "      <td>2.000000</td>\n",
       "      <td>0.000000</td>\n",
       "      <td>171.374060</td>\n",
       "    </tr>\n",
       "    <tr>\n",
       "      <th>25%</th>\n",
       "      <td>0.592884</td>\n",
       "      <td>3.000000</td>\n",
       "      <td>5.000000</td>\n",
       "      <td>0.386801</td>\n",
       "      <td>181.472085</td>\n",
       "    </tr>\n",
       "    <tr>\n",
       "      <th>50%</th>\n",
       "      <td>0.647456</td>\n",
       "      <td>3.000000</td>\n",
       "      <td>7.000000</td>\n",
       "      <td>0.500786</td>\n",
       "      <td>184.628796</td>\n",
       "    </tr>\n",
       "    <tr>\n",
       "      <th>75%</th>\n",
       "      <td>0.708379</td>\n",
       "      <td>4.000000</td>\n",
       "      <td>8.000000</td>\n",
       "      <td>0.622607</td>\n",
       "      <td>187.728708</td>\n",
       "    </tr>\n",
       "    <tr>\n",
       "      <th>max</th>\n",
       "      <td>1.000000</td>\n",
       "      <td>5.000000</td>\n",
       "      <td>12.000000</td>\n",
       "      <td>1.000000</td>\n",
       "      <td>200.861656</td>\n",
       "    </tr>\n",
       "  </tbody>\n",
       "</table>\n",
       "</div>"
      ],
      "text/plain": [
       "            review     projects       tenure  satisfaction  avg_hrs_month\n",
       "count  9540.000000  9540.000000  9540.000000   9540.000000    9540.000000\n",
       "mean      0.651826     3.274843     6.556184      0.504645     184.661571\n",
       "std       0.085307     0.579136     1.415432      0.158555       4.144831\n",
       "min       0.310000     2.000000     2.000000      0.000000     171.374060\n",
       "25%       0.592884     3.000000     5.000000      0.386801     181.472085\n",
       "50%       0.647456     3.000000     7.000000      0.500786     184.628796\n",
       "75%       0.708379     4.000000     8.000000      0.622607     187.728708\n",
       "max       1.000000     5.000000    12.000000      1.000000     200.861656"
      ]
     },
     "execution_count": 3,
     "metadata": {},
     "output_type": "execute_result"
    }
   ],
   "source": [
    "print(len(df))\n",
    "df.describe()"
   ]
  },
  {
   "cell_type": "markdown",
   "metadata": {},
   "source": [
    "As we can see, the range and mean of the numerical features vary significantly, so we will normalize the data for improved model performance.<br>Luckily, we can also see that there are no missing values, since the count is the same as the length of the data set."
   ]
  },
  {
   "cell_type": "code",
   "execution_count": 4,
   "metadata": {},
   "outputs": [],
   "source": [
    "def feat_eng(df):\n",
    "    #Seperate the data into categorical and numeric data types\n",
    "    df_cat = df.select_dtypes(include=\"object\")\n",
    "    df_num = df.select_dtypes(exclude=\"object\")\n",
    "    #Center the data around 0\n",
    "    df_num -= df_num.mean()\n",
    "    #Convert all variable's standard deviation to 1\n",
    "    df_num /= df_num.std()\n",
    "\n",
    "    return pd.concat([df_cat, df_num], axis=1)\n",
    "df_eng = feat_eng(df)"
   ]
  },
  {
   "cell_type": "code",
   "execution_count": 5,
   "metadata": {},
   "outputs": [
    {
     "data": {
      "text/html": [
       "<div>\n",
       "<style scoped>\n",
       "    .dataframe tbody tr th:only-of-type {\n",
       "        vertical-align: middle;\n",
       "    }\n",
       "\n",
       "    .dataframe tbody tr th {\n",
       "        vertical-align: top;\n",
       "    }\n",
       "\n",
       "    .dataframe thead th {\n",
       "        text-align: right;\n",
       "    }\n",
       "</style>\n",
       "<table border=\"1\" class=\"dataframe\">\n",
       "  <thead>\n",
       "    <tr style=\"text-align: right;\">\n",
       "      <th></th>\n",
       "      <th>review</th>\n",
       "      <th>projects</th>\n",
       "      <th>tenure</th>\n",
       "      <th>satisfaction</th>\n",
       "      <th>avg_hrs_month</th>\n",
       "    </tr>\n",
       "  </thead>\n",
       "  <tbody>\n",
       "    <tr>\n",
       "      <th>count</th>\n",
       "      <td>9.540000e+03</td>\n",
       "      <td>9.540000e+03</td>\n",
       "      <td>9.540000e+03</td>\n",
       "      <td>9.540000e+03</td>\n",
       "      <td>9.540000e+03</td>\n",
       "    </tr>\n",
       "    <tr>\n",
       "      <th>mean</th>\n",
       "      <td>-8.820850e-15</td>\n",
       "      <td>4.835463e-16</td>\n",
       "      <td>-1.226487e-14</td>\n",
       "      <td>-4.824443e-15</td>\n",
       "      <td>1.271211e-13</td>\n",
       "    </tr>\n",
       "    <tr>\n",
       "      <th>std</th>\n",
       "      <td>1.000000e+00</td>\n",
       "      <td>1.000000e+00</td>\n",
       "      <td>1.000000e+00</td>\n",
       "      <td>1.000000e+00</td>\n",
       "      <td>1.000000e+00</td>\n",
       "    </tr>\n",
       "    <tr>\n",
       "      <th>min</th>\n",
       "      <td>-4.007024e+00</td>\n",
       "      <td>-2.201285e+00</td>\n",
       "      <td>-3.218936e+00</td>\n",
       "      <td>-3.182769e+00</td>\n",
       "      <td>-3.205803e+00</td>\n",
       "    </tr>\n",
       "    <tr>\n",
       "      <th>25%</th>\n",
       "      <td>-6.909480e-01</td>\n",
       "      <td>-4.745741e-01</td>\n",
       "      <td>-1.099441e+00</td>\n",
       "      <td>-7.432330e-01</td>\n",
       "      <td>-7.695094e-01</td>\n",
       "    </tr>\n",
       "    <tr>\n",
       "      <th>50%</th>\n",
       "      <td>-5.122694e-02</td>\n",
       "      <td>-4.745741e-01</td>\n",
       "      <td>3.135548e-01</td>\n",
       "      <td>-2.433809e-02</td>\n",
       "      <td>-7.907581e-03</td>\n",
       "    </tr>\n",
       "    <tr>\n",
       "      <th>75%</th>\n",
       "      <td>6.629284e-01</td>\n",
       "      <td>1.252137e+00</td>\n",
       "      <td>1.020053e+00</td>\n",
       "      <td>7.439815e-01</td>\n",
       "      <td>7.399909e-01</td>\n",
       "    </tr>\n",
       "    <tr>\n",
       "      <th>max</th>\n",
       "      <td>4.081431e+00</td>\n",
       "      <td>2.978848e+00</td>\n",
       "      <td>3.846046e+00</td>\n",
       "      <td>3.124184e+00</td>\n",
       "      <td>3.908503e+00</td>\n",
       "    </tr>\n",
       "  </tbody>\n",
       "</table>\n",
       "</div>"
      ],
      "text/plain": [
       "             review      projects        tenure  satisfaction  avg_hrs_month\n",
       "count  9.540000e+03  9.540000e+03  9.540000e+03  9.540000e+03   9.540000e+03\n",
       "mean  -8.820850e-15  4.835463e-16 -1.226487e-14 -4.824443e-15   1.271211e-13\n",
       "std    1.000000e+00  1.000000e+00  1.000000e+00  1.000000e+00   1.000000e+00\n",
       "min   -4.007024e+00 -2.201285e+00 -3.218936e+00 -3.182769e+00  -3.205803e+00\n",
       "25%   -6.909480e-01 -4.745741e-01 -1.099441e+00 -7.432330e-01  -7.695094e-01\n",
       "50%   -5.122694e-02 -4.745741e-01  3.135548e-01 -2.433809e-02  -7.907581e-03\n",
       "75%    6.629284e-01  1.252137e+00  1.020053e+00  7.439815e-01   7.399909e-01\n",
       "max    4.081431e+00  2.978848e+00  3.846046e+00  3.124184e+00   3.908503e+00"
      ]
     },
     "execution_count": 5,
     "metadata": {},
     "output_type": "execute_result"
    }
   ],
   "source": [
    "df_eng.describe()"
   ]
  },
  {
   "cell_type": "markdown",
   "metadata": {},
   "source": [
    "Next, we will need to one-hot encode the categorical variables"
   ]
  },
  {
   "cell_type": "code",
   "execution_count": 6,
   "metadata": {},
   "outputs": [
    {
     "data": {
      "text/html": [
       "<div>\n",
       "<style scoped>\n",
       "    .dataframe tbody tr th:only-of-type {\n",
       "        vertical-align: middle;\n",
       "    }\n",
       "\n",
       "    .dataframe tbody tr th {\n",
       "        vertical-align: top;\n",
       "    }\n",
       "\n",
       "    .dataframe thead th {\n",
       "        text-align: right;\n",
       "    }\n",
       "</style>\n",
       "<table border=\"1\" class=\"dataframe\">\n",
       "  <thead>\n",
       "    <tr style=\"text-align: right;\">\n",
       "      <th></th>\n",
       "      <th>department</th>\n",
       "      <th>departure</th>\n",
       "      <th>review</th>\n",
       "      <th>projects</th>\n",
       "      <th>tenure</th>\n",
       "      <th>satisfaction</th>\n",
       "      <th>avg_hrs_month</th>\n",
       "      <th>Not Promoted</th>\n",
       "      <th>Promoted</th>\n",
       "      <th>High Salary</th>\n",
       "      <th>Low Salary</th>\n",
       "      <th>Medium Salary</th>\n",
       "      <th>Bonus</th>\n",
       "      <th>No Bonus</th>\n",
       "    </tr>\n",
       "  </thead>\n",
       "  <tbody>\n",
       "    <tr>\n",
       "      <th>0</th>\n",
       "      <td>Operations</td>\n",
       "      <td>Stayed</td>\n",
       "      <td>-0.870478</td>\n",
       "      <td>-0.474574</td>\n",
       "      <td>-1.099441</td>\n",
       "      <td>0.770170</td>\n",
       "      <td>-0.915719</td>\n",
       "      <td>1</td>\n",
       "      <td>0</td>\n",
       "      <td>0</td>\n",
       "      <td>1</td>\n",
       "      <td>0</td>\n",
       "      <td>0</td>\n",
       "      <td>1</td>\n",
       "    </tr>\n",
       "    <tr>\n",
       "      <th>1</th>\n",
       "      <td>Operations</td>\n",
       "      <td>Stayed</td>\n",
       "      <td>1.173100</td>\n",
       "      <td>-0.474574</td>\n",
       "      <td>-0.392943</td>\n",
       "      <td>-0.384507</td>\n",
       "      <td>-0.471291</td>\n",
       "      <td>1</td>\n",
       "      <td>0</td>\n",
       "      <td>0</td>\n",
       "      <td>0</td>\n",
       "      <td>1</td>\n",
       "      <td>0</td>\n",
       "      <td>1</td>\n",
       "    </tr>\n",
       "    <tr>\n",
       "      <th>2</th>\n",
       "      <td>Support</td>\n",
       "      <td>Stayed</td>\n",
       "      <td>0.829033</td>\n",
       "      <td>-0.474574</td>\n",
       "      <td>-0.392943</td>\n",
       "      <td>-0.364676</td>\n",
       "      <td>-0.059227</td>\n",
       "      <td>1</td>\n",
       "      <td>0</td>\n",
       "      <td>0</td>\n",
       "      <td>0</td>\n",
       "      <td>1</td>\n",
       "      <td>0</td>\n",
       "      <td>1</td>\n",
       "    </tr>\n",
       "    <tr>\n",
       "      <th>3</th>\n",
       "      <td>Logistics</td>\n",
       "      <td>Stayed</td>\n",
       "      <td>0.273507</td>\n",
       "      <td>1.252137</td>\n",
       "      <td>1.020053</td>\n",
       "      <td>-0.406835</td>\n",
       "      <td>0.976149</td>\n",
       "      <td>1</td>\n",
       "      <td>0</td>\n",
       "      <td>1</td>\n",
       "      <td>0</td>\n",
       "      <td>0</td>\n",
       "      <td>0</td>\n",
       "      <td>1</td>\n",
       "    </tr>\n",
       "    <tr>\n",
       "      <th>4</th>\n",
       "      <td>Sales</td>\n",
       "      <td>Stayed</td>\n",
       "      <td>0.285755</td>\n",
       "      <td>-0.474574</td>\n",
       "      <td>-1.099441</td>\n",
       "      <td>0.460174</td>\n",
       "      <td>-1.167837</td>\n",
       "      <td>1</td>\n",
       "      <td>0</td>\n",
       "      <td>1</td>\n",
       "      <td>0</td>\n",
       "      <td>0</td>\n",
       "      <td>1</td>\n",
       "      <td>0</td>\n",
       "    </tr>\n",
       "  </tbody>\n",
       "</table>\n",
       "</div>"
      ],
      "text/plain": [
       "   department departure    review  projects    tenure  satisfaction  \\\n",
       "0  Operations    Stayed -0.870478 -0.474574 -1.099441      0.770170   \n",
       "1  Operations    Stayed  1.173100 -0.474574 -0.392943     -0.384507   \n",
       "2     Support    Stayed  0.829033 -0.474574 -0.392943     -0.364676   \n",
       "3   Logistics    Stayed  0.273507  1.252137  1.020053     -0.406835   \n",
       "4       Sales    Stayed  0.285755 -0.474574 -1.099441      0.460174   \n",
       "\n",
       "   avg_hrs_month  Not Promoted  Promoted  High Salary  Low Salary  \\\n",
       "0      -0.915719             1         0            0           1   \n",
       "1      -0.471291             1         0            0           0   \n",
       "2      -0.059227             1         0            0           0   \n",
       "3       0.976149             1         0            1           0   \n",
       "4      -1.167837             1         0            1           0   \n",
       "\n",
       "   Medium Salary  Bonus  No Bonus  \n",
       "0              0      0         1  \n",
       "1              1      0         1  \n",
       "2              1      0         1  \n",
       "3              0      0         1  \n",
       "4              0      1         0  "
      ]
     },
     "execution_count": 6,
     "metadata": {},
     "output_type": "execute_result"
    }
   ],
   "source": [
    "#Rename salary values for one-hot encoding\n",
    "salary_one_hot = df.salary.apply(lambda x: x + \" Salary\")\n",
    "df_eng.salary = salary_one_hot\n",
    "cat_vars = ['promoted', 'salary', 'bonus']\n",
    "#Get the one-hot encoding\n",
    "one_hot = pd.get_dummies(df_eng[cat_vars], \"\", \"\")\n",
    "#Replace categorical features with one-hot encoded features\n",
    "df_one_hot = df_eng.drop(cat_vars, axis=1).join(one_hot)\n",
    "df_one_hot.head()"
   ]
  },
  {
   "cell_type": "markdown",
   "metadata": {},
   "source": [
    "Next, we will want to drop features that are highly correlated, since having multiple features that trend the same way could skew the results towards those feautures"
   ]
  },
  {
   "cell_type": "code",
   "execution_count": 7,
   "metadata": {},
   "outputs": [
    {
     "data": {
      "image/png": "[encoded data removed]",
      "text/plain": [
       "<Figure size 432x288 with 2 Axes>"
      ]
     },
     "metadata": {},
     "output_type": "display_data"
    }
   ],
   "source": [
    "sns.heatmap(df_one_hot.corr(), annot=True,fmt='.1f', linewidth=0.5)\n",
    "plt.show()"
   ]
  },
  {
   "cell_type": "markdown",
   "metadata": {},
   "source": [
    "From the above correlation heatmap, we can see that tenure and average hours per month are highly correlated, so we will drop tenure from our features<br><br>We can also see a strong negative correlation between the categorical variables, but this is to be expected since one-hot encoding insures that the groups within a categorical feature are mutually exclusive"
   ]
  },
  {
   "cell_type": "code",
   "execution_count": 8,
   "metadata": {},
   "outputs": [],
   "source": [
    "#Drop the highly correlated feature\n",
    "df_one_hot.drop(\"tenure\", axis=1, inplace=True)"
   ]
  },
  {
   "cell_type": "markdown",
   "metadata": {},
   "source": [
    "## 2. Build the Classification Model"
   ]
  },
  {
   "cell_type": "markdown",
   "metadata": {},
   "source": [
    "Imports"
   ]
  },
  {
   "cell_type": "code",
   "execution_count": 9,
   "metadata": {},
   "outputs": [],
   "source": [
    "from sklearn.model_selection import train_test_split\n",
    "import xgboost as xgb\n",
    "from sklearn.metrics import f1_score, confusion_matrix\n",
    "from sklearn.metrics import accuracy_score"
   ]
  },
  {
   "cell_type": "markdown",
   "metadata": {},
   "source": [
    "Split the data into training and testing data"
   ]
  },
  {
   "cell_type": "markdown",
   "metadata": {},
   "source": [
    "Model 1: One-Hot encode the department feature"
   ]
  },
  {
   "cell_type": "code",
   "execution_count": 23,
   "metadata": {},
   "outputs": [],
   "source": [
    "#Encode the department data\n",
    "dep_one_hot = pd.get_dummies(df_one_hot.department, \"\", \"\")\n",
    "model_data = df_one_hot.drop(\"department\", axis=1).join(dep_one_hot)\n",
    "#Split the data into training and testing data\n",
    "features = model_data.drop(\"departure\", axis=1)\n",
    "targets = model_data.departure.apply(lambda x: 0 if x==\"Stayed\" else 1) #Replace target names with target numbers\n",
    "\n",
    "train_feats, test_feats, train_trgts, test_trgts = train_test_split(features, targets, test_size=0.3)"
   ]
  },
  {
   "cell_type": "markdown",
   "metadata": {},
   "source": [
    "Build the basic classifier model"
   ]
  },
  {
   "cell_type": "code",
   "execution_count": 24,
   "metadata": {},
   "outputs": [
    {
     "name": "stdout",
     "output_type": "stream",
     "text": [
      "[15:40:48] WARNING: C:/Users/Administrator/workspace/xgboost-win64_release_1.5.1/src/learner.cc:1115: Starting in XGBoost 1.3.0, the default evaluation metric used with the objective 'binary:logistic' was changed from 'error' to 'logloss'. Explicitly set eval_metric if you'd like to restore the old behavior.\n"
     ]
    }
   ],
   "source": [
    "churn_classifier = xgb.XGBClassifier(objective=\"binary:logistic\").fit(train_feats, train_trgts)"
   ]
  },
  {
   "cell_type": "markdown",
   "metadata": {},
   "source": [
    "Evaluate the performance of the model"
   ]
  },
  {
   "cell_type": "code",
   "execution_count": 28,
   "metadata": {},
   "outputs": [
    {
     "name": "stdout",
     "output_type": "stream",
     "text": [
      "Accuracy: 85.64%\n"
     ]
    },
    {
     "data": {
      "image/png": "[encoded data removed]",
      "text/plain": [
       "<Figure size 432x288 with 2 Axes>"
      ]
     },
     "metadata": {},
     "output_type": "display_data"
    },
    {
     "name": "stdout",
     "output_type": "stream",
     "text": [
      "The model incorrectly predicts that an employee will churn 23.18% of the time\n"
     ]
    }
   ],
   "source": [
    "#Accuracy\n",
    "model_predictions = churn_classifier.predict(test_feats)\n",
    "accuracy = accuracy_score(test_trgts, model_predictions)\n",
    "print(f\"Accuracy: {round(accuracy*100, 2)}%\")\n",
    "#Confusion Matrix\n",
    "CM = confusion_matrix(test_trgts, model_predictions)\n",
    "sns.heatmap(CM, annot=True, fmt=\"d\")\n",
    "plt.xlabel(\"Model Prediction\")\n",
    "plt.ylabel(\"Actual Employee Churn\")\n",
    "plt.show()\n",
    "\n",
    "incorrect_churn_prediction = CM[0,1]\n",
    "total_churn_prediction = sum(CM[:,1])\n",
    "churn_prediction_rate = incorrect_churn_prediction/total_churn_prediction*100\n",
    "print(f\"The model incorrectly predicts that an employee will churn {round(churn_prediction_rate, 2)}% of the time\")"
   ]
  },
  {
   "cell_type": "markdown",
   "metadata": {},
   "source": [
    "From the above confusion matrix, we can see that the model incorrectly predicts an employee will churn approximately 1 out of every 4 employees<br><br>\n",
    "This is not a good prediction, so we will need to further tweak the parameters"
   ]
  },
  {
   "cell_type": "markdown",
   "metadata": {},
   "source": [
    "Model 2: Department specific Models"
   ]
  },
  {
   "cell_type": "code",
   "execution_count": 15,
   "metadata": {},
   "outputs": [
    {
     "name": "stdout",
     "output_type": "stream",
     "text": [
      "[15:36:33] WARNING: C:/Users/Administrator/workspace/xgboost-win64_release_1.5.1/src/learner.cc:1115: Starting in XGBoost 1.3.0, the default evaluation metric used with the objective 'binary:logistic' was changed from 'error' to 'logloss'. Explicitly set eval_metric if you'd like to restore the old behavior.\n",
      "[15:36:33] WARNING: C:/Users/Administrator/workspace/xgboost-win64_release_1.5.1/src/learner.cc:1115: Starting in XGBoost 1.3.0, the default evaluation metric used with the objective 'binary:logistic' was changed from 'error' to 'logloss'. Explicitly set eval_metric if you'd like to restore the old behavior.\n",
      "[15:36:34] WARNING: C:/Users/Administrator/workspace/xgboost-win64_release_1.5.1/src/learner.cc:1115: Starting in XGBoost 1.3.0, the default evaluation metric used with the objective 'binary:logistic' was changed from 'error' to 'logloss'. Explicitly set eval_metric if you'd like to restore the old behavior.\n",
      "[15:36:34] WARNING: C:/Users/Administrator/workspace/xgboost-win64_release_1.5.1/src/learner.cc:1115: Starting in XGBoost 1.3.0, the default evaluation metric used with the objective 'binary:logistic' was changed from 'error' to 'logloss'. Explicitly set eval_metric if you'd like to restore the old behavior.\n",
      "[15:36:34] WARNING: C:/Users/Administrator/workspace/xgboost-win64_release_1.5.1/src/learner.cc:1115: Starting in XGBoost 1.3.0, the default evaluation metric used with the objective 'binary:logistic' was changed from 'error' to 'logloss'. Explicitly set eval_metric if you'd like to restore the old behavior.\n",
      "[15:36:34] WARNING: C:/Users/Administrator/workspace/xgboost-win64_release_1.5.1/src/learner.cc:1115: Starting in XGBoost 1.3.0, the default evaluation metric used with the objective 'binary:logistic' was changed from 'error' to 'logloss'. Explicitly set eval_metric if you'd like to restore the old behavior.\n",
      "[15:36:34] WARNING: C:/Users/Administrator/workspace/xgboost-win64_release_1.5.1/src/learner.cc:1115: Starting in XGBoost 1.3.0, the default evaluation metric used with the objective 'binary:logistic' was changed from 'error' to 'logloss'. Explicitly set eval_metric if you'd like to restore the old behavior.\n",
      "[15:36:35] WARNING: C:/Users/Administrator/workspace/xgboost-win64_release_1.5.1/src/learner.cc:1115: Starting in XGBoost 1.3.0, the default evaluation metric used with the objective 'binary:logistic' was changed from 'error' to 'logloss'. Explicitly set eval_metric if you'd like to restore the old behavior.\n",
      "[15:36:35] WARNING: C:/Users/Administrator/workspace/xgboost-win64_release_1.5.1/src/learner.cc:1115: Starting in XGBoost 1.3.0, the default evaluation metric used with the objective 'binary:logistic' was changed from 'error' to 'logloss'. Explicitly set eval_metric if you'd like to restore the old behavior.\n",
      "[15:36:35] WARNING: C:/Users/Administrator/workspace/xgboost-win64_release_1.5.1/src/learner.cc:1115: Starting in XGBoost 1.3.0, the default evaluation metric used with the objective 'binary:logistic' was changed from 'error' to 'logloss'. Explicitly set eval_metric if you'd like to restore the old behavior.\n"
     ]
    }
   ],
   "source": [
    "department_model = {}\n",
    "for department in df.department.unique():\n",
    "    #Extract the department data\n",
    "    dep_data = df_one_hot[df_one_hot.department == department].drop(\"department\", axis=1)\n",
    "    #Extract training and testing data\n",
    "    features = dep_data.drop(\"departure\", axis=1)\n",
    "    targets = dep_data.departure.apply(lambda x: 0 if x==\"Stayed\" else 1) #Replace target names with target numbers\n",
    "\n",
    "    features = dep_data.select_dtypes(exclude=\"object\")\n",
    "    targets = dep_data.departure.apply(lambda x: 0 if x==\"Stayed\" else 1) #Replace target names with target numbers\n",
    "\n",
    "    train_feats, test_feats, train_trgts, test_trgts = train_test_split(features, targets, test_size=0.2)\n",
    "    #Train the model\n",
    "    classifier = xgb.XGBClassifier().fit(train_feats, train_trgts)\n",
    "    #Append info to dictionary\n",
    "    department_model[department] = {\n",
    "        'model': classifier,\n",
    "        'testing data': {\n",
    "            \"features\": test_feats,\n",
    "            \"targets\": test_trgts\n",
    "        }\n",
    "    }"
   ]
  },
  {
   "cell_type": "markdown",
   "metadata": {},
   "source": [
    "Evaluate the performance of each department"
   ]
  },
  {
   "cell_type": "code",
   "execution_count": 27,
   "metadata": {},
   "outputs": [
    {
     "name": "stdout",
     "output_type": "stream",
     "text": [
      "\n",
      "\n",
      "Department: Operations\n",
      "===============================================\n",
      "Accuracy: 81.97%\n"
     ]
    },
    {
     "data": {
      "image/png": "[encoded data removed]",
      "text/plain": [
       "<Figure size 432x288 with 2 Axes>"
      ]
     },
     "metadata": {},
     "output_type": "display_data"
    },
    {
     "name": "stdout",
     "output_type": "stream",
     "text": [
      "The model incorrectly predicts that an employee will churn 31.34% of the time\n",
      "\n",
      "\n",
      "Department: Support\n",
      "===============================================\n",
      "Accuracy: 84.35%\n"
     ]
    },
    {
     "data": {
      "image/png": "[encoded data removed]",
      "text/plain": [
       "<Figure size 432x288 with 2 Axes>"
      ]
     },
     "metadata": {},
     "output_type": "display_data"
    },
    {
     "name": "stdout",
     "output_type": "stream",
     "text": [
      "The model incorrectly predicts that an employee will churn 29.73% of the time\n",
      "\n",
      "\n",
      "Department: Logistics\n",
      "===============================================\n",
      "Accuracy: 70.83%\n"
     ]
    },
    {
     "data": {
      "image/png": "[encoded data removed]",
      "text/plain": [
       "<Figure size 432x288 with 2 Axes>"
      ]
     },
     "metadata": {},
     "output_type": "display_data"
    },
    {
     "name": "stdout",
     "output_type": "stream",
     "text": [
      "The model incorrectly predicts that an employee will churn 47.83% of the time\n",
      "\n",
      "\n",
      "Department: Sales\n",
      "===============================================\n",
      "Accuracy: 85.94%\n"
     ]
    },
    {
     "data": {
      "image/png": "[encoded data removed]",
      "text/plain": [
       "<Figure size 432x288 with 2 Axes>"
      ]
     },
     "metadata": {},
     "output_type": "display_data"
    },
    {
     "name": "stdout",
     "output_type": "stream",
     "text": [
      "The model incorrectly predicts that an employee will churn 18.75% of the time\n",
      "\n",
      "\n",
      "Department: IT\n",
      "===============================================\n",
      "Accuracy: 86.11%\n"
     ]
    },
    {
     "data": {
      "image/png": "[encoded data removed]",
      "text/plain": [
       "<Figure size 432x288 with 2 Axes>"
      ]
     },
     "metadata": {},
     "output_type": "display_data"
    },
    {
     "name": "stdout",
     "output_type": "stream",
     "text": [
      "The model incorrectly predicts that an employee will churn 29.17% of the time\n",
      "\n",
      "\n",
      "Department: Admin\n",
      "===============================================\n",
      "Accuracy: 83.53%\n"
     ]
    },
    {
     "data": {
      "image/png": "[encoded data removed]",
      "text/plain": [
       "<Figure size 432x288 with 2 Axes>"
      ]
     },
     "metadata": {},
     "output_type": "display_data"
    },
    {
     "name": "stdout",
     "output_type": "stream",
     "text": [
      "The model incorrectly predicts that an employee will churn 33.33% of the time\n",
      "\n",
      "\n",
      "Department: Engineering\n",
      "===============================================\n",
      "Accuracy: 85.2%\n"
     ]
    },
    {
     "data": {
      "image/png": "[encoded data removed]",
      "text/plain": [
       "<Figure size 432x288 with 2 Axes>"
      ]
     },
     "metadata": {},
     "output_type": "display_data"
    },
    {
     "name": "stdout",
     "output_type": "stream",
     "text": [
      "The model incorrectly predicts that an employee will churn 21.05% of the time\n",
      "\n",
      "\n",
      "Department: Marketing\n",
      "===============================================\n",
      "Accuracy: 83.23%\n"
     ]
    },
    {
     "data": {
      "image/png": "[encoded data removed]",
      "text/plain": [
       "<Figure size 432x288 with 2 Axes>"
      ]
     },
     "metadata": {},
     "output_type": "display_data"
    },
    {
     "name": "stdout",
     "output_type": "stream",
     "text": [
      "The model incorrectly predicts that an employee will churn 20.93% of the time\n",
      "\n",
      "\n",
      "Department: Finance\n",
      "===============================================\n",
      "Accuracy: 83.95%\n"
     ]
    },
    {
     "data": {
      "image/png": "[encoded data removed]",
      "text/plain": [
       "<Figure size 432x288 with 2 Axes>"
      ]
     },
     "metadata": {},
     "output_type": "display_data"
    },
    {
     "name": "stdout",
     "output_type": "stream",
     "text": [
      "The model incorrectly predicts that an employee will churn 33.33% of the time\n",
      "\n",
      "\n",
      "Department: Retail\n",
      "===============================================\n",
      "Accuracy: 82.85%\n"
     ]
    },
    {
     "data": {
      "image/png": "[encoded data removed]",
      "text/plain": [
       "<Figure size 432x288 with 2 Axes>"
      ]
     },
     "metadata": {},
     "output_type": "display_data"
    },
    {
     "name": "stdout",
     "output_type": "stream",
     "text": [
      "The model incorrectly predicts that an employee will churn 21.25% of the time\n"
     ]
    }
   ],
   "source": [
    "for department in df.department.unique():\n",
    "    #Extract department info\n",
    "    model = department_model[department]['model']\n",
    "    test_data = department_model[department]['testing data']\n",
    "\n",
    "    #Accuracy\n",
    "    model_predictions = model.predict(test_data[\"features\"])\n",
    "    accuracy = accuracy_score(test_data[\"targets\"], model_predictions)\n",
    "\n",
    "    #Display the results\n",
    "    print(f\"\\n\\nDepartment: {department}\")\n",
    "    print(\"===============================================\")\n",
    "    print(f\"Accuracy: {round(accuracy*100, 2)}%\")\n",
    "    #Confusion Matrix\n",
    "    CM = confusion_matrix(test_data[\"targets\"], model_predictions)\n",
    "    sns.heatmap(CM, annot=True, fmt=\"d\")\n",
    "    plt.xlabel(\"Model Prediction\")\n",
    "    plt.ylabel(\"Actual Employee Churn\")\n",
    "    plt.show()\n",
    "\n",
    "    incorrect_churn_prediction = CM[0,1]\n",
    "    total_churn_prediction = sum(CM[:,1])\n",
    "    churn_prediction_rate = incorrect_churn_prediction/total_churn_prediction*100\n",
    "    print(f\"The model incorrectly predicts that an employee will churn {round(churn_prediction_rate, 2)}% of the time\")"
   ]
  },
  {
   "cell_type": "markdown",
   "metadata": {},
   "source": [
    "It seems that training a model for each department didn't change the accuracy of the model, so we will revert back to the model that predicts for all departments and tweak it for better results."
   ]
  },
  {
   "cell_type": "markdown",
   "metadata": {},
   "source": [
    "confusion_matrix(test_data[\"targets\"], model_predictions)"
   ]
  },
  {
   "cell_type": "code",
   "execution_count": 17,
   "metadata": {},
   "outputs": [
    {
     "data": {
      "text/plain": [
       "array([[193,  17],\n",
       "       [ 36,  63]], dtype=int64)"
      ]
     },
     "execution_count": 17,
     "metadata": {},
     "output_type": "execute_result"
    }
   ],
   "source": [
    "confusion_matrix(test_data[\"targets\"], model_predictions)"
   ]
  },
  {
   "cell_type": "code",
   "execution_count": null,
   "metadata": {},
   "outputs": [],
   "source": []
  }
 ],
 "metadata": {
  "interpreter": {
   "hash": "0afc6acc6861824f0bcf7d3fd89b3dda23fbd54236650ebaf76ffd9a1f4897dc"
  },
  "kernelspec": {
   "display_name": "Python 3.8.5 ('base')",
   "language": "python",
   "name": "python3"
  },
  "language_info": {
   "codemirror_mode": {
    "name": "ipython",
    "version": 3
   },
   "file_extension": ".py",
   "mimetype": "text/x-python",
   "name": "python",
   "nbconvert_exporter": "python",
   "pygments_lexer": "ipython3",
   "version": "3.8.5"
  },
  "orig_nbformat": 4
 },
 "nbformat": 4,
 "nbformat_minor": 2
}
