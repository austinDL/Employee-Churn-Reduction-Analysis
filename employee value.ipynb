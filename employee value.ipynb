{
 "cells": [
  {
   "cell_type": "markdown",
   "metadata": {},
   "source": [
    "## This notebook ranks the employees compared to their colleagues"
   ]
  },
  {
   "cell_type": "markdown",
   "metadata": {},
   "source": [
    "Imports"
   ]
  },
  {
   "cell_type": "code",
   "execution_count": 7,
   "metadata": {},
   "outputs": [],
   "source": [
    "#Import data manipulation libraries\n",
    "import pandas as pd\n",
    "#Import statistics functions\n",
    "from scipy import stats"
   ]
  },
  {
   "cell_type": "markdown",
   "metadata": {},
   "source": [
    "Read in the data"
   ]
  },
  {
   "cell_type": "code",
   "execution_count": 10,
   "metadata": {},
   "outputs": [
    {
     "data": {
      "text/html": [
       "<div>\n",
       "<style scoped>\n",
       "    .dataframe tbody tr th:only-of-type {\n",
       "        vertical-align: middle;\n",
       "    }\n",
       "\n",
       "    .dataframe tbody tr th {\n",
       "        vertical-align: top;\n",
       "    }\n",
       "\n",
       "    .dataframe thead th {\n",
       "        text-align: right;\n",
       "    }\n",
       "</style>\n",
       "<table border=\"1\" class=\"dataframe\">\n",
       "  <thead>\n",
       "    <tr style=\"text-align: right;\">\n",
       "      <th></th>\n",
       "      <th>department</th>\n",
       "      <th>promoted</th>\n",
       "      <th>review</th>\n",
       "      <th>projects</th>\n",
       "      <th>salary</th>\n",
       "      <th>tenure</th>\n",
       "      <th>satisfaction</th>\n",
       "      <th>bonus</th>\n",
       "      <th>avg_hrs_month</th>\n",
       "      <th>departure</th>\n",
       "    </tr>\n",
       "  </thead>\n",
       "  <tbody>\n",
       "    <tr>\n",
       "      <th>0</th>\n",
       "      <td>Operations</td>\n",
       "      <td>Not Promoted</td>\n",
       "      <td>0.577569</td>\n",
       "      <td>3</td>\n",
       "      <td>Low</td>\n",
       "      <td>5</td>\n",
       "      <td>0.626759</td>\n",
       "      <td>No Bonus</td>\n",
       "      <td>180.866070</td>\n",
       "      <td>Stayed</td>\n",
       "    </tr>\n",
       "    <tr>\n",
       "      <th>1</th>\n",
       "      <td>Operations</td>\n",
       "      <td>Not Promoted</td>\n",
       "      <td>0.751900</td>\n",
       "      <td>3</td>\n",
       "      <td>Medium</td>\n",
       "      <td>6</td>\n",
       "      <td>0.443679</td>\n",
       "      <td>No Bonus</td>\n",
       "      <td>182.708149</td>\n",
       "      <td>Stayed</td>\n",
       "    </tr>\n",
       "    <tr>\n",
       "      <th>2</th>\n",
       "      <td>Support</td>\n",
       "      <td>Not Promoted</td>\n",
       "      <td>0.722548</td>\n",
       "      <td>3</td>\n",
       "      <td>Medium</td>\n",
       "      <td>6</td>\n",
       "      <td>0.446823</td>\n",
       "      <td>No Bonus</td>\n",
       "      <td>184.416084</td>\n",
       "      <td>Stayed</td>\n",
       "    </tr>\n",
       "    <tr>\n",
       "      <th>3</th>\n",
       "      <td>Logistics</td>\n",
       "      <td>Not Promoted</td>\n",
       "      <td>0.675158</td>\n",
       "      <td>4</td>\n",
       "      <td>High</td>\n",
       "      <td>8</td>\n",
       "      <td>0.440139</td>\n",
       "      <td>No Bonus</td>\n",
       "      <td>188.707545</td>\n",
       "      <td>Stayed</td>\n",
       "    </tr>\n",
       "    <tr>\n",
       "      <th>4</th>\n",
       "      <td>Sales</td>\n",
       "      <td>Not Promoted</td>\n",
       "      <td>0.676203</td>\n",
       "      <td>3</td>\n",
       "      <td>High</td>\n",
       "      <td>5</td>\n",
       "      <td>0.577607</td>\n",
       "      <td>Bonus</td>\n",
       "      <td>179.821083</td>\n",
       "      <td>Stayed</td>\n",
       "    </tr>\n",
       "  </tbody>\n",
       "</table>\n",
       "</div>"
      ],
      "text/plain": [
       "   department      promoted    review  projects  salary  tenure  satisfaction  \\\n",
       "0  Operations  Not Promoted  0.577569         3     Low       5      0.626759   \n",
       "1  Operations  Not Promoted  0.751900         3  Medium       6      0.443679   \n",
       "2     Support  Not Promoted  0.722548         3  Medium       6      0.446823   \n",
       "3   Logistics  Not Promoted  0.675158         4    High       8      0.440139   \n",
       "4       Sales  Not Promoted  0.676203         3    High       5      0.577607   \n",
       "\n",
       "      bonus  avg_hrs_month departure  \n",
       "0  No Bonus     180.866070    Stayed  \n",
       "1  No Bonus     182.708149    Stayed  \n",
       "2  No Bonus     184.416084    Stayed  \n",
       "3  No Bonus     188.707545    Stayed  \n",
       "4     Bonus     179.821083    Stayed  "
      ]
     },
     "execution_count": 10,
     "metadata": {},
     "output_type": "execute_result"
    }
   ],
   "source": [
    "df = pd.read_csv('./data/clean_data.csv').drop(\"Unnamed: 0\", axis=1)\n",
    "df.head()"
   ]
  },
  {
   "cell_type": "code",
   "execution_count": 11,
   "metadata": {},
   "outputs": [],
   "source": [
    "#Construct a dictionary of department-salary groups of employees for quick access\n",
    "department_salary_dfs = {}\n",
    "departments = df.department.unique()\n",
    "salaries = df.salary.unique()\n",
    "for dep in departments:\n",
    "    department_salary_dfs[dep] = {\n",
    "        sal: df[(df.department == dep) & (df.salary == sal)] for sal in salaries\n",
    "    }\n",
    "\n",
    "\n",
    "def get_ranking(row, feature):\n",
    "    #Get the employees in the same department-salary group\n",
    "    colleagues = department_salary_dfs[row.department][row.salary]\n",
    "    percentile = stats.percentileofscore(colleagues[feature], row[feature])\n",
    "    if percentile > 50:\n",
    "        #Convert percentile to a ranking in 10% chunks\n",
    "        rank = 100 - percentile\n",
    "        rank_type = \"Top\"\n",
    "    else:\n",
    "        #Convert percentile to a ranking in 10% chunks\n",
    "        rank = percentile\n",
    "        rank_type = \"Bottom\"\n",
    "    #Round the rank type to be in chunks of 10%\n",
    "    rank = round(rank, -1)\n",
    "    #If the rank is 0%, it means it is in the top or botom 5% of employees\n",
    "    rank = 5 if rank == 0 else rank\n",
    "\n",
    "    return f\"{rank_type} {int(rank)}%\" "
   ]
  },
  {
   "cell_type": "code",
   "execution_count": 13,
   "metadata": {},
   "outputs": [
    {
     "data": {
      "text/html": [
       "<div>\n",
       "<style scoped>\n",
       "    .dataframe tbody tr th:only-of-type {\n",
       "        vertical-align: middle;\n",
       "    }\n",
       "\n",
       "    .dataframe tbody tr th {\n",
       "        vertical-align: top;\n",
       "    }\n",
       "\n",
       "    .dataframe thead th {\n",
       "        text-align: right;\n",
       "    }\n",
       "</style>\n",
       "<table border=\"1\" class=\"dataframe\">\n",
       "  <thead>\n",
       "    <tr style=\"text-align: right;\">\n",
       "      <th></th>\n",
       "      <th>review</th>\n",
       "      <th>projects</th>\n",
       "      <th>tenure</th>\n",
       "      <th>satisfaction</th>\n",
       "      <th>avg_hrs_month</th>\n",
       "    </tr>\n",
       "  </thead>\n",
       "  <tbody>\n",
       "    <tr>\n",
       "      <th>0</th>\n",
       "      <td>Bottom 20%</td>\n",
       "      <td>Bottom 40%</td>\n",
       "      <td>Bottom 10%</td>\n",
       "      <td>Top 30%</td>\n",
       "      <td>Bottom 20%</td>\n",
       "    </tr>\n",
       "    <tr>\n",
       "      <th>1</th>\n",
       "      <td>Top 10%</td>\n",
       "      <td>Bottom 40%</td>\n",
       "      <td>Bottom 40%</td>\n",
       "      <td>Bottom 40%</td>\n",
       "      <td>Bottom 30%</td>\n",
       "    </tr>\n",
       "    <tr>\n",
       "      <th>2</th>\n",
       "      <td>Top 20%</td>\n",
       "      <td>Bottom 40%</td>\n",
       "      <td>Bottom 40%</td>\n",
       "      <td>Bottom 40%</td>\n",
       "      <td>Bottom 50%</td>\n",
       "    </tr>\n",
       "    <tr>\n",
       "      <th>3</th>\n",
       "      <td>Top 40%</td>\n",
       "      <td>Top 10%</td>\n",
       "      <td>Top 20%</td>\n",
       "      <td>Top 50%</td>\n",
       "      <td>Top 20%</td>\n",
       "    </tr>\n",
       "    <tr>\n",
       "      <th>4</th>\n",
       "      <td>Top 30%</td>\n",
       "      <td>Bottom 40%</td>\n",
       "      <td>Bottom 20%</td>\n",
       "      <td>Top 30%</td>\n",
       "      <td>Bottom 10%</td>\n",
       "    </tr>\n",
       "  </tbody>\n",
       "</table>\n",
       "</div>"
      ],
      "text/plain": [
       "       review    projects      tenure satisfaction avg_hrs_month\n",
       "0  Bottom 20%  Bottom 40%  Bottom 10%      Top 30%    Bottom 20%\n",
       "1     Top 10%  Bottom 40%  Bottom 40%   Bottom 40%    Bottom 30%\n",
       "2     Top 20%  Bottom 40%  Bottom 40%   Bottom 40%    Bottom 50%\n",
       "3     Top 40%     Top 10%     Top 20%      Top 50%       Top 20%\n",
       "4     Top 30%  Bottom 40%  Bottom 20%      Top 30%    Bottom 10%"
      ]
     },
     "execution_count": 13,
     "metadata": {},
     "output_type": "execute_result"
    }
   ],
   "source": [
    "#Features that determine the employee's value\n",
    "employee_value_feats = [\"review\", \"projects\", \"tenure\", \"satisfaction\", \"avg_hrs_month\"]\n",
    "#Create a data frame to rank the employee's performance as compared to their peers\n",
    "employee_rankings_dict = {\n",
    "    feat: df.apply(lambda row: get_ranking(row, feat), axis=1) for feat in employee_value_feats\n",
    "}\n",
    "#Convert to a data frame\n",
    "employee_rankings = pd.DataFrame(employee_rankings_dict)\n",
    "\n",
    "employee_rankings.head()"
   ]
  },
  {
   "cell_type": "markdown",
   "metadata": {},
   "source": [
    "Save the rankings"
   ]
  },
  {
   "cell_type": "code",
   "execution_count": 15,
   "metadata": {},
   "outputs": [],
   "source": [
    "employee_rankings.to_csv(\"data/employee_rankings.csv\")"
   ]
  }
 ],
 "metadata": {
  "interpreter": {
   "hash": "7e6100836071a04a64791bae480db6ace87be8ecfc36b305317537011f08806f"
  },
  "kernelspec": {
   "display_name": "Python 3.9.10 64-bit (windows store)",
   "language": "python",
   "name": "python3"
  },
  "language_info": {
   "codemirror_mode": {
    "name": "ipython",
    "version": 3
   },
   "file_extension": ".py",
   "mimetype": "text/x-python",
   "name": "python",
   "nbconvert_exporter": "python",
   "pygments_lexer": "ipython3",
   "version": "3.8.5"
  },
  "orig_nbformat": 4
 },
 "nbformat": 4,
 "nbformat_minor": 2
}
